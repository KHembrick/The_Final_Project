{
 "cells": [
  {
   "cell_type": "markdown",
   "id": "d42822ce",
   "metadata": {},
   "source": [
    "# Preliminary Data "
   ]
  },
  {
   "cell_type": "markdown",
   "id": "b31b79bc",
   "metadata": {},
   "source": [
    "We Acquired the dataset from Kaggle. We used SQL to join the dataset and store the data. Some of the libraries used were Scikit, pandas, numpy and matpoltlib. "
   ]
  },
  {
   "cell_type": "markdown",
   "id": "48526822",
   "metadata": {},
   "source": [
    "# Preliminary Feature"
   ]
  },
  {
   "cell_type": "markdown",
   "id": "03c68280",
   "metadata": {},
   "source": [
    "We Choose to based our model off 10 basic columns. \n",
    "I narrowed the columns down five main features. \n",
    "We used those features to single out trends and behaviors. Then turned the Attrited customers into a individual dataset. "
   ]
  },
  {
   "cell_type": "markdown",
   "id": "2f301ce1",
   "metadata": {},
   "source": [
    "# Explanation of Training/Testing Sets"
   ]
  },
  {
   "cell_type": "markdown",
   "id": "b589be96",
   "metadata": {},
   "source": [
    "To train and validate the model, we'll split the target sets and features into two sets. The training set will help us identify the relationships between the various features in the model and the target set. The testing set will help us determine the validity of the model."
   ]
  },
  {
   "cell_type": "markdown",
   "id": "f144a2fc",
   "metadata": {},
   "source": [
    " # Model Choice"
   ]
  },
  {
   "cell_type": "markdown",
   "id": "cb75d58f",
   "metadata": {},
   "source": [
    "We Choose Random oversampling because we based our model off of 16% \n",
    "of the overall data we were provided. The 16% of the data were the Attrited customers data."
   ]
  }
 ],
 "metadata": {
  "kernelspec": {
   "display_name": "mlenv",
   "language": "python",
   "name": "mlenv"
  },
  "language_info": {
   "codemirror_mode": {
    "name": "ipython",
    "version": 3
   },
   "file_extension": ".py",
   "mimetype": "text/x-python",
   "name": "python",
   "nbconvert_exporter": "python",
   "pygments_lexer": "ipython3",
   "version": "3.7.13"
  }
 },
 "nbformat": 4,
 "nbformat_minor": 5
}
