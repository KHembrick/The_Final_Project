{
 "cells": [
  {
   "cell_type": "markdown",
   "id": "848c4c62",
   "metadata": {},
   "source": []
  },
  {
   "cell_type": "markdown",
   "id": "1721c0cd",
   "metadata": {},
   "source": [
    "# Presentation\n",
    "\n",
    "<!-- Credit Card Market\n",
    "    Size and Growth\n",
    "    Trends -->\n",
    "Credit card services is one of major forms of payment in the retail industry. According to Insider Intellegence, credit's share of in-store retail transactions is at 36.3%. With the rise of non-essential spending, it is predicted that credit utilization will keep growing. As a result, there will be a stiff competition among credit card issuers.\n",
    " \n",
    " \n",
    " \n",
    " \n",
    "<!-- Why select this topic\n",
    "    solve customer attrition problem (customer retention)\n",
    "    improve products and service -->\n",
    "With a competitive market and other forms of payments on the rise, such as debit card, cash, and mobile payment method, customer attrition is one of the problems banks are facing. PocketSense defined customer attrition  as a reduction of credit card users for a company. This is also known as churning. Our group chose this topic to improve customer churn rate by analyzing a dataset from a bank by identifying existing customers who are likely to churn or drop off. \n",
    "\n",
    "<!-- \n",
    "Dataset\n",
    "    source\n",
    "    description -->\n",
    "The dataset that will be used for this analysis project was obtained from https://leaps.analyttica.com/home through Kaggle.com. The dataset contains over 10,000 customer demographics such as age, salary, marital status, credit card limit, category, etc. \n",
    "\n",
    "\n",
    "<!-- Project Goals -->\n",
    "Our group aims to achieve the following goals:\n",
    "1. Analyze and find demographic trends from attrited customers.\n",
    "2. Create a machine learning model that can predict who are likely to churn from existing customers.\n"
   ]
  },
  {
   "cell_type": "markdown",
   "id": "9ce30974",
   "metadata": {},
   "source": [
    "# Sources:\n",
    "\n",
    "https://www.insiderintelligence.com/insights/credit-card-industry/\n",
    "https://pocketsense.com/reduce-credit-card-attrition-5852419.html\n"
   ]
  },
  {
   "cell_type": "markdown",
   "id": "9ac93f41",
   "metadata": {},
   "source": [
    "# Presentation\n",
    "\n",
    "Topic: Credit Card Services\n",
    "\n",
    "Reason: To help a bank improve their product services and offerings and solve customer attrition\n",
    "\n",
    "Description of sources of data: The dataset came from  https://leaps.analyttica.com/home through Kaggle.com. The dataset is consist of 10,000 customer demographics.\n",
    "\n",
    "Project Goals:\n",
    "1. Analyze the dataset to find behavior of customers who are likely to stay with the credit company.\n",
    "2. Analyze the dataset to find behavior of customers who are likely to leave the credit company.\n"
   ]
  },
  {
   "cell_type": "markdown",
   "id": "a46a9626",
   "metadata": {},
   "source": [
    "# Machine Learning Model\n",
    "\n",
    "1. Isolate attrited customers from existing customers\n",
    "2. find patterns from attrited cx \n",
    "3. use patterns from step 2 to see who are more likely to stay or leave among existing customers\n",
    "4. We will use supervised machine learning"
   ]
  },
  {
   "cell_type": "markdown",
   "id": "6ef83b7b",
   "metadata": {},
   "source": [
    "# Database\n",
    "c/o Clay"
   ]
  },
  {
   "cell_type": "code",
   "execution_count": null,
   "id": "6585297b",
   "metadata": {},
   "outputs": [],
   "source": []
  }
 ],
 "metadata": {
  "kernelspec": {
   "display_name": "PythonData",
   "language": "python",
   "name": "pythondata"
  },
  "language_info": {
   "codemirror_mode": {
    "name": "ipython",
    "version": 3
   },
   "file_extension": ".py",
   "mimetype": "text/x-python",
   "name": "python",
   "nbconvert_exporter": "python",
   "pygments_lexer": "ipython3",
   "version": "3.7.11"
  }
 },
 "nbformat": 4,
 "nbformat_minor": 5
}
