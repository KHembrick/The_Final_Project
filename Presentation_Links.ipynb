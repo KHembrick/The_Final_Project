{
 "cells": [
  {
   "cell_type": "markdown",
   "id": "448beaa9",
   "metadata": {},
   "source": [
    "# Google_Slides_Link \n",
    "\n",
    "\n",
    "https://bit.ly/3txpzx5"
   ]
  },
  {
   "cell_type": "markdown",
   "id": "068ea1eb",
   "metadata": {},
   "source": [
    "# Project_Dashboard_Link\n",
    "\n",
    "https://public.tableau.com/app/profile/genesis.garin.villemaire/viz/Project_Dashboard_16544692745830/Dashboard1"
   ]
  },
  {
   "cell_type": "code",
   "execution_count": null,
   "id": "c388527c",
   "metadata": {},
   "outputs": [],
   "source": []
  }
 ],
 "metadata": {
  "kernelspec": {
   "display_name": "PythonData",
   "language": "python",
   "name": "pythondata"
  },
  "language_info": {
   "codemirror_mode": {
    "name": "ipython",
    "version": 3
   },
   "file_extension": ".py",
   "mimetype": "text/x-python",
   "name": "python",
   "nbconvert_exporter": "python",
   "pygments_lexer": "ipython3",
   "version": "3.7.11"
  }
 },
 "nbformat": 4,
 "nbformat_minor": 5
}
