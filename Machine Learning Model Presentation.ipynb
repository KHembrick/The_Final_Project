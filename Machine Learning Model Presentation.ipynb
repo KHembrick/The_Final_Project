{
 "cells": [
  {
   "cell_type": "markdown",
   "id": "48526822",
   "metadata": {},
   "source": [
    "# Feature Engineering "
   ]
  },
  {
   "cell_type": "markdown",
   "id": "05db5d4a",
   "metadata": {},
   "source": [
    "We Choose to based our model off 9 basic columns.\n",
    "I narrowed the columns down to five main features. We believe those five features to be the driving factors for customer Attrition. We used those features to single out trends and behaviors. Then turned the Attrited customers into a individual dataset. "
   ]
  },
  {
   "cell_type": "markdown",
   "id": "9c3dddeb",
   "metadata": {},
   "source": [
    "Attrition_Flag - whether or not the client will leave the bank\n",
    "CLIENTNUM- clients ID number\n",
    "Customer_Age- Age of the client \n",
    "Gender-The sex of the client\n",
    "Dependent_count- Number people client supports\n",
    "Education_Level- Education Qualification of the client\n",
    "Marital_Status- Describe the relationship status of the client\n",
    "Income_Category- Annual Salary\n",
    "Card_Category - Type of Card (Blue, Silver, Gold, Platinum)\n",
    "Months on book- Period of relationship with bank"
   ]
  },
  {
   "cell_type": "markdown",
   "id": "2f301ce1",
   "metadata": {},
   "source": [
    "# Explanation of Training/Testing Sets"
   ]
  },
  {
   "cell_type": "markdown",
   "id": "73bdcc76",
   "metadata": {},
   "source": [
    "To train and validate the model, we'll split the target sets and features into two sets. The training set will help us identify the relationships between the various features in the model and the target set. The testing set will help us determine the validity of the model. "
   ]
  },
  {
   "cell_type": "markdown",
   "id": "ed43630f",
   "metadata": {},
   "source": [
    "The current machine learning model didn't exceed %50 when predicting churning customers. I do belive if we were to usea Balanced Random Forest Classifier or  Easy Ensemble AdaBoost Classifier model we would get a more accurate prediction. "
   ]
  },
  {
   "cell_type": "markdown",
   "id": "f144a2fc",
   "metadata": {},
   "source": [
    " # Model Choice"
   ]
  },
  {
   "cell_type": "markdown",
   "id": "0685bc86",
   "metadata": {},
   "source": [
    "We Choose Random oversampling because we based our model off of 16% \n",
    "of the overall data we were provided. The 16% of the data were the Attrited customers data."
   ]
  },
  {
   "cell_type": "markdown",
   "id": "7e6cdea0",
   "metadata": {},
   "source": [
    "# Accuracy Score "
   ]
  },
  {
   "cell_type": "markdown",
   "id": "2acbcc51",
   "metadata": {},
   "source": [
    "The Accuracy score reported a %50 chance to predict the clients that are likely to churn. "
   ]
  }
 ],
 "metadata": {
  "kernelspec": {
   "display_name": "mlenv",
   "language": "python",
   "name": "mlenv"
  },
  "language_info": {
   "codemirror_mode": {
    "name": "ipython",
    "version": 3
   },
   "file_extension": ".py",
   "mimetype": "text/x-python",
   "name": "python",
   "nbconvert_exporter": "python",
   "pygments_lexer": "ipython3",
   "version": "3.7.13"
  }
 },
 "nbformat": 4,
 "nbformat_minor": 5
}
