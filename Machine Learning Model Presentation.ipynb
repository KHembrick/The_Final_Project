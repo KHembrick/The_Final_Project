{
 "cells": [
  {
   "cell_type": "markdown",
   "id": "48526822",
   "metadata": {},
   "source": [
    "# Feature Engineering "
   ]
  },
  {
   "cell_type": "raw",
   "id": "3d30567d",
   "metadata": {},
   "source": [
    "The nine columns\n",
    "\n",
    "•\tAttrition_Flag - whether or not the client will leave the bank\n",
    "•\tCLIENTNUM- clients ID number\n",
    "•\tCustomer_Age- Age of the client \n",
    "•\tGender-The sex of the client\n",
    "•\tDependent_count- Number people client supports\n",
    "•\tEducation_Level- Education Qualification of the client\n",
    "•\tMarital_Status- Describe the relationship status of the client\n",
    "•\tIncome_Category- Annual Salary\n",
    "•\tCard_Category - Type of Card (Blue, Silver, Gold, Platinum)\n",
    "•\tMonths on book- Period of relationship with bank\n"
   ]
  },
  {
   "cell_type": "markdown",
   "id": "05db5d4a",
   "metadata": {},
   "source": [
    "Main Features for bahviors and trends \n",
    "\n",
    "•\tGender\n",
    "•\tEducation Level\n",
    "•\tAge\n",
    "•\tMarital Status\n",
    "•\tIncome\n",
    "•\tCard Type\n"
   ]
  },
  {
   "cell_type": "markdown",
   "id": "2f301ce1",
   "metadata": {},
   "source": [
    "# Explanation of Training/Testing Sets"
   ]
  },
  {
   "cell_type": "raw",
   "id": "8a9e6305",
   "metadata": {},
   "source": [
    "To train and validate the model, we'll split the target sets and features into two sets. The training set will help us identify the relationships between the various features in the model and the target set. The testing set will help us determine the validity of the model. "
   ]
  },
  {
   "cell_type": "raw",
   "id": "a6f8f100",
   "metadata": {},
   "source": [
    "The current machine learning model didn't exceed %50 when predicting churning customers. I do belive if we were to usea Balanced Random Forest Classifier or  Easy Ensemble AdaBoost Classifier model we would get a more accurate prediction. "
   ]
  },
  {
   "cell_type": "markdown",
   "id": "f144a2fc",
   "metadata": {},
   "source": [
    " # Model Choice"
   ]
  },
  {
   "cell_type": "raw",
   "id": "06b5d0d4",
   "metadata": {},
   "source": [
    "We Choose Random oversampling because we based our model off of 16% \n",
    "of the overall data we were provided. The 16% of the data were the Attrited customers data."
   ]
  },
  {
   "cell_type": "raw",
   "id": "ec1cd151",
   "metadata": {},
   "source": [
    "The Accuracy score reported a %50 chance to predict the clients that are likely to churn. "
   ]
  }
 ],
 "metadata": {
  "kernelspec": {
   "display_name": "mlenv",
   "language": "python",
   "name": "mlenv"
  },
  "language_info": {
   "codemirror_mode": {
    "name": "ipython",
    "version": 3
   },
   "file_extension": ".py",
   "mimetype": "text/x-python",
   "name": "python",
   "nbconvert_exporter": "python",
   "pygments_lexer": "ipython3",
   "version": "3.7.13"
  }
 },
 "nbformat": 4,
 "nbformat_minor": 5
}
